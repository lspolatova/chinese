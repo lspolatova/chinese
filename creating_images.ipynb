{
  "nbformat": 4,
  "nbformat_minor": 0,
  "metadata": {
    "colab": {
      "name": "creating images.ipynb",
      "provenance": [],
      "mount_file_id": "1XGdH8V7p_Bki4BpTyE7OTNnxWSUUzs4M",
      "authorship_tag": "ABX9TyOPJB9btpiGY5sClR1pvRQv",
      "include_colab_link": true
    },
    "kernelspec": {
      "name": "python3",
      "display_name": "Python 3"
    },
    "language_info": {
      "name": "python"
    }
  },
  "cells": [
    {
      "cell_type": "markdown",
      "metadata": {
        "id": "view-in-github",
        "colab_type": "text"
      },
      "source": [
        "<a href=\"https://colab.research.google.com/github/lspolatova/chinese/blob/development/creating_images.ipynb\" target=\"_parent\"><img src=\"https://colab.research.google.com/assets/colab-badge.svg\" alt=\"Open In Colab\"/></a>"
      ]
    },
    {
      "cell_type": "code",
      "metadata": {
        "colab": {
          "base_uri": "https://localhost:8080/"
        },
        "id": "Cb2Wzvho9nhy",
        "outputId": "b7731795-dad4-4625-d96f-eeb3529d4359"
      },
      "source": [
        "unicode_range = ('4E00', '9FCC')\n",
        "characters = []\n",
        "for unicode_character in range(int(unicode_range[0], 16), int(unicode_range[1], 16)):\n",
        "    characters.append(chr(unicode_character))\n",
        "    \n",
        "from PIL import Image, ImageFilter, ImageDraw, ImageFont\n",
        "counter = 0\n",
        "X_data = []\n",
        "for letter in characters:\n",
        "    img = Image.new('RGB', (40, 40), 'white')\n",
        "    idraw = ImageDraw.Draw(img)\n",
        "    line = ImageFont.truetype('/root/fonts/simsun.ttc', size = 30, encoding='utf-8')\n",
        "    idraw.text((5, 5), letter, font = line, fill = 'black')\n",
        "    X_data.append(img)\n",
        "    counter = counter + 1\n",
        "    if(not counter%1000):\n",
        "        print(f'Создано картинок {counter} из {len(characters)}...')"
      ],
      "execution_count": 84,
      "outputs": [
        {
          "output_type": "stream",
          "name": "stdout",
          "text": [
            "Создано картинок 1000 из 20940...\n",
            "Создано картинок 2000 из 20940...\n",
            "Создано картинок 3000 из 20940...\n",
            "Создано картинок 4000 из 20940...\n",
            "Создано картинок 5000 из 20940...\n",
            "Создано картинок 6000 из 20940...\n",
            "Создано картинок 7000 из 20940...\n",
            "Создано картинок 8000 из 20940...\n",
            "Создано картинок 9000 из 20940...\n",
            "Создано картинок 10000 из 20940...\n",
            "Создано картинок 11000 из 20940...\n",
            "Создано картинок 12000 из 20940...\n",
            "Создано картинок 13000 из 20940...\n",
            "Создано картинок 14000 из 20940...\n",
            "Создано картинок 15000 из 20940...\n",
            "Создано картинок 16000 из 20940...\n",
            "Создано картинок 17000 из 20940...\n",
            "Создано картинок 18000 из 20940...\n",
            "Создано картинок 19000 из 20940...\n",
            "Создано картинок 20000 из 20940...\n"
          ]
        }
      ]
    },
    {
      "cell_type": "code",
      "metadata": {
        "colab": {
          "base_uri": "https://localhost:8080/"
        },
        "id": "7bxvuq37NWhM",
        "outputId": "e14a377e-9cf0-450f-fdef-db40602497a7"
      },
      "source": [
        "# TensorFlow and tf.keras\n",
        "import tensorflow as tf\n",
        "\n",
        "# Helper libraries\n",
        "import numpy as np\n",
        "import matplotlib.pyplot as plt\n",
        "\n",
        "print(tf.__version__)"
      ],
      "execution_count": 85,
      "outputs": [
        {
          "output_type": "stream",
          "name": "stdout",
          "text": [
            "2.7.0\n"
          ]
        }
      ]
    },
    {
      "cell_type": "code",
      "metadata": {
        "id": "9i-CQsYtNlvH"
      },
      "source": [
        "from sklearn.model_selection import train_test_split\n",
        "train_images, test_images, train_labels, test_labels = train_test_split(X_data, characters, test_size=0.3)"
      ],
      "execution_count": 86,
      "outputs": []
    },
    {
      "cell_type": "code",
      "metadata": {
        "colab": {
          "base_uri": "https://localhost:8080/",
          "height": 267
        },
        "id": "MK5tmTT5Mtps",
        "outputId": "10211177-eb3b-45d8-8059-5a63d26b056f"
      },
      "source": [
        "import matplotlib.pyplot as plt\n",
        "\n",
        "plt.imshow(train_images[1000])\n",
        "plt.show()"
      ],
      "execution_count": 87,
      "outputs": [
        {
          "output_type": "display_data",
          "data": {
            "image/png": "[encoded data removed]",
            "text/plain": [
              "<Figure size 432x288 with 1 Axes>"
            ]
          },
          "metadata": {
            "needs_background": "light"
          }
        }
      ]
    },
    {
      "cell_type": "code",
      "metadata": {
        "colab": {
          "base_uri": "https://localhost:8080/"
        },
        "id": "G4hAOKVNVpsA",
        "outputId": "957509f1-8859-498a-a2f4-9c15730ba9cb"
      },
      "source": [
        "print(train_labels[1000])"
      ],
      "execution_count": 88,
      "outputs": [
        {
          "output_type": "stream",
          "name": "stdout",
          "text": [
            "泂\n"
          ]
        }
      ]
    }
  ]
}