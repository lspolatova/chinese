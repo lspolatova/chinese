{
 "cells": [
  {
   "cell_type": "code",
   "execution_count": 1,
   "id": "51ee19dc",
   "metadata": {},
   "outputs": [],
   "source": [
    "import os\n",
    "path_to_fonts = 'font'\n",
    "filelist = []\n",
    "for root, dirs, files in os.walk(path_to_fonts): \n",
    "    for file in files: \n",
    "        filelist.append(file)"
   ]
  },
  {
   "cell_type": "code",
   "execution_count": 2,
   "id": "8bdc4764",
   "metadata": {},
   "outputs": [],
   "source": [
    "filelist = filelist[:2]"
   ]
  },
  {
   "cell_type": "code",
   "execution_count": 3,
   "id": "80f3fa3b",
   "metadata": {},
   "outputs": [],
   "source": [
    "import numpy as np\n",
    "from PIL import Image\n",
    "path_to_fonts = 'img'\n",
    "X_data = []\n",
    "Y_data=[]\n",
    "for root, dirs, files in os.walk(path_to_fonts): \n",
    "    for file in files: \n",
    "        for font in filelist:\n",
    "            if(font in file):\n",
    "                X_data.append(np.asarray(Image.open(os.path.join(root,file)))/255.0)"
   ]
  },
  {
   "cell_type": "code",
   "execution_count": 4,
   "id": "f2c6ddf5",
   "metadata": {},
   "outputs": [],
   "source": [
    "X_data = np.array(X_data)"
   ]
  },
  {
   "cell_type": "code",
   "execution_count": 5,
   "id": "7b5896f1",
   "metadata": {},
   "outputs": [],
   "source": [
    "import joblib\n",
    "filename = 'joblib_model.pkl'\n",
    "kmeans = joblib.load(filename)"
   ]
  },
  {
   "cell_type": "code",
   "execution_count": 6,
   "id": "682e5ed8",
   "metadata": {},
   "outputs": [],
   "source": [
    "Y_data = kmeans.labels_"
   ]
  },
  {
   "cell_type": "code",
   "execution_count": 7,
   "id": "e674c28c",
   "metadata": {},
   "outputs": [],
   "source": [
    "Y_data = list(Y_data) * 8"
   ]
  },
  {
   "cell_type": "code",
   "execution_count": 8,
   "id": "8bb6ba58",
   "metadata": {},
   "outputs": [],
   "source": [
    "def identity_block(X, f, filters, stage, block):\n",
    "    \"\"\"\n",
    "    Implementation of the identity block as defined in Figure 4\n",
    "    \n",
    "    Arguments:\n",
    "    X -- input tensor of shape (m, n_H_prev, n_W_prev, n_C_prev)\n",
    "    f -- integer, specifying the shape of the middle CONV's window for the main path\n",
    "    колличество фильтров\n",
    "    filters -- python list of integers, defining the number of filters in the CONV layers of the main path\n",
    "    stage - номер слоя (число)\n",
    "    block -- string/character, used to name the layers, depending on their position in the network\n",
    "    (тоже самое?)\n",
    "    Returns:\n",
    "    X -- output of the identity block, tensor of shape (n_H, n_W, n_C)\n",
    "    \"\"\"\n",
    "    \n",
    "    conv_name_base = 'res' + str(stage) + block + '_branch'\n",
    "    bn_name_base = 'bn' + str(stage) + block + '_branch'\n",
    "    \n",
    "    F1, F2, F3 = filters\n",
    "    X_shortcut = X\n",
    "    \n",
    "    # First component of main path\n",
    "    X = Conv2D(filters = F1, kernel_size = (1, 1), strides = (1,1), padding = 'valid', name = conv_name_base + '2a', kernel_initializer = glorot_uniform(seed=0))(X) \n",
    "    X = BatchNormalization(axis = 3, name = bn_name_base + '2a')(X)\n",
    "    X = Activation('relu')(X)\n",
    "    \n",
    "    # Second component of main path (≈3 lines)\n",
    "    X = Conv2D(filters = F2, kernel_size = (f,f), strides = (1,1), padding = 'same', name = conv_name_base + '2b', kernel_initializer = glorot_uniform(seed=0))(X)\n",
    "    X = BatchNormalization(axis = 3, name = bn_name_base + '2b')(X)\n",
    "    X = Activation('relu')(X)\n",
    "\n",
    "    # Third component of main path (≈2 lines)\n",
    "    X = Conv2D(filters = F3, kernel_size = (1,1), strides = (1,1), padding = 'valid', name = conv_name_base + '2c', kernel_initializer = glorot_uniform(seed=0))(X)\n",
    "    X = BatchNormalization(axis = 3, name = bn_name_base + '2c')(X)\n",
    "    \n",
    "    # Final step: Add shortcut value to main path, and pass it through a RELU activation (≈2 lines)\n",
    "    X = Add()([X, X_shortcut])\n",
    "    X = Activation('relu')(X)\n",
    "    \n",
    "    return X"
   ]
  },
  {
   "cell_type": "code",
   "execution_count": 9,
   "id": "5cce9266",
   "metadata": {},
   "outputs": [],
   "source": [
    "def convolutional_block(X, f, filters, stage, block, s = 2):\n",
    "    \"\"\"\n",
    "    Implementation of the convolutional block as defined in Figure 4\n",
    "    \n",
    "    Arguments:\n",
    "    X -- input tensor of shape (m, n_H_prev, n_W_prev, n_C_prev)\n",
    "    f -- integer, specifying the shape of the middle CONV's window for the main path\n",
    "    filters -- python list of integers, defining the number of filters in the CONV layers of the main path\n",
    "    stage -- integer, used to name the layers, depending on their position in the network\n",
    "    block -- string/character, used to name the layers, depending on their position in the network\n",
    "    s -- Integer, specifying the stride to be used\n",
    "    \n",
    "    Returns:\n",
    "    X -- output of the convolutional block, tensor of shape (n_H, n_W, n_C)\n",
    "    \"\"\"\n",
    "    \n",
    "    # defining name basis\n",
    "    conv_name_base = 'res' + str(stage) + block + '_branch'\n",
    "    bn_name_base = 'bn' + str(stage) + block + '_branch'\n",
    "    \n",
    "    # Retrieve Filters\n",
    "    F1, F2, F3 = filters\n",
    "    \n",
    "    # Save the input value\n",
    "    X_shortcut = X\n",
    "\n",
    "    ##### MAIN PATH #####\n",
    "    # First component of main path \n",
    "    X = Conv2D(F1, (1, 1), strides = (s,s), padding = 'valid', name = conv_name_base + '2a', kernel_initializer = glorot_uniform(seed=0))(X)\n",
    "    X = BatchNormalization(axis = 3, name = bn_name_base + '2a')(X)\n",
    "    X = Activation('relu')(X)\n",
    "    \n",
    "    # Second component of main path (≈3 lines)\n",
    "    X = Conv2D(filters = F2, kernel_size = (f,f), strides = (1,1), padding = 'same', name = conv_name_base + '2b', kernel_initializer = glorot_uniform(seed=0))(X)\n",
    "    X = BatchNormalization(axis = 3, name = bn_name_base + '2b')(X)\n",
    "    X = Activation('relu')(X)\n",
    "        # Third component of main path (≈2 lines)\n",
    "    X = Conv2D(filters = F3, kernel_size = (1,1), strides = (1,1), padding = 'valid', name = conv_name_base + '2c', kernel_initializer = glorot_uniform(seed=0))(X)\n",
    "    X = BatchNormalization(axis = 3, name = bn_name_base + '2c')(X)\n",
    "        \n",
    "    ##### SHORTCUT PATH #### (≈2 lines)\n",
    "    X_shortcut = Conv2D(filters = F3, kernel_size = (1, 1), strides = (s,s), padding = 'valid', name = conv_name_base + '1', kernel_initializer = glorot_uniform(seed=0))(X_shortcut)\n",
    "    X_shortcut = BatchNormalization(axis = 3, name = bn_name_base + '1')(X_shortcut)\n",
    "\n",
    "    # Final step: Add shortcut value to main path, and pass it through a RELU activation (≈2 lines)\n",
    "    X = Add()([X, X_shortcut])\n",
    "    X = Activation('relu')(X)\n",
    "        \n",
    "    return X"
   ]
  },
  {
   "cell_type": "code",
   "execution_count": 10,
   "id": "eee4ae61",
   "metadata": {},
   "outputs": [],
   "source": [
    "def ResNet50(input_shape = (64, 64, 3), classes = 10):\n",
    "    \"\"\"\n",
    "    Implementation of the popular ResNet50 the following architecture:\n",
    "    CONV2D -> BATCHNORM -> RELU -> MAXPOOL -> CONVBLOCK -> IDBLOCK*2 -> CONVBLOCK -> IDBLOCK*3\n",
    "    -> CONVBLOCK -> IDBLOCK*5 -> CONVBLOCK -> IDBLOCK*2 -> AVGPOOL -> TOPLAYER\n",
    "\n",
    "    Arguments:\n",
    "    input_shape -- shape of the images of the dataset\n",
    "    classes -- integer, number of classes\n",
    "\n",
    "    Returns:\n",
    "    model -- a Model() instance in Keras\n",
    "    \"\"\"\n",
    "    \n",
    "    # Define the input as a tensor with shape input_shape\n",
    "    X_input = Input(input_shape)\n",
    "\n",
    "    \n",
    "    # Zero-Padding\n",
    "    X = ZeroPadding2D((3, 3))(X_input)\n",
    "    \n",
    "    # Stage 1\n",
    "    X = Conv2D(64, (7, 7), strides = (2, 2), name = 'conv1', kernel_initializer = glorot_uniform(seed=0))(X)\n",
    "    X = BatchNormalization(axis = 3, name = 'bn_conv1')(X)\n",
    "    X = Activation('relu')(X)\n",
    "    X = MaxPooling2D((3, 3), strides=(2, 2))(X)\n",
    "\n",
    "    # Stage 2\n",
    "    X = convolutional_block(X, f = 3, filters = [64, 64, 256], stage = 2, block='a', s = 1)\n",
    "    X = identity_block(X, 3, [64, 64, 256], stage=2, block='b')\n",
    "    X = identity_block(X, 3, [64, 64, 256], stage=2, block='c')\n",
    "\n",
    "    ### START CODE HERE ###\n",
    "\n",
    "    # Stage 3 (≈4 lines)\n",
    "    X = convolutional_block(X, f = 3, filters = [128, 128, 512], stage = 3, block='a', s = 2)\n",
    "    X = identity_block(X, 3, [128, 128, 512], stage=3, block='b')\n",
    "    X = identity_block(X, 3, [128, 128, 512], stage=3, block='c')\n",
    "    X = identity_block(X, 3, [128, 128, 512], stage=3, block='d')\n",
    "\n",
    "    # Stage 4 (≈6 lines)\n",
    "    X = convolutional_block(X, f = 3, filters = [256, 256, 1024], stage = 4, block='a', s = 2)\n",
    "    X = identity_block(X, 3, [256, 256, 1024], stage=4, block='b')\n",
    "    X = identity_block(X, 3, [256, 256, 1024], stage=4, block='c')\n",
    "    X = identity_block(X, 3, [256, 256, 1024], stage=4, block='d')\n",
    "    X = identity_block(X, 3, [256, 256, 1024], stage=4, block='e')\n",
    "    X = identity_block(X, 3, [256, 256, 1024], stage=4, block='f')\n",
    "\n",
    "    # Stage 5 (≈3 lines)\n",
    "    X = convolutional_block(X, f = 3, filters = [512, 512, 2048], stage = 5, block='a', s = 2)\n",
    "    X = identity_block(X, 3, [512, 512, 2048], stage=5, block='b')\n",
    "    X = identity_block(X, 3, [512, 512, 2048], stage=5, block='c')\n",
    "\n",
    "    # AVGPOOL (≈1 line). Use \"X = AveragePooling2D(...)(X)\"\n",
    "    X = AveragePooling2D((2, 2), name = 'avg_pool')(X)\n",
    "    \n",
    "    ### END CODE HERE ###\n",
    "\n",
    "    # output layer\n",
    "    X = Flatten()(X)\n",
    "    X = Dense(classes, activation='softmax', name='fc' + str(classes), kernel_initializer = glorot_uniform(seed=0))(X)\n",
    "    \n",
    "    \n",
    "    # Create model\n",
    "    model = Model(inputs = X_input, outputs = X, name='ResNet50')\n",
    "\n",
    "    return model"
   ]
  },
  {
   "cell_type": "code",
   "execution_count": 11,
   "id": "473a2c64",
   "metadata": {},
   "outputs": [],
   "source": [
    "from tensorflow.keras.layers import Input, ZeroPadding2D, Conv2D, BatchNormalization, Activation, MaxPooling2D, Add, AveragePooling2D, Flatten, Dense\n",
    "from tensorflow.keras.initializers import glorot_uniform\n",
    "from tensorflow.keras.models import Model\n",
    "import tensorflow"
   ]
  },
  {
   "cell_type": "code",
   "execution_count": 12,
   "id": "d2f03faf",
   "metadata": {},
   "outputs": [],
   "source": [
    "model = ResNet50(input_shape = (64, 64, 3), classes = 10)"
   ]
  },
  {
   "cell_type": "code",
   "execution_count": 13,
   "id": "c7181e63",
   "metadata": {},
   "outputs": [],
   "source": [
    "optimizer = tensorflow.keras.optimizers.SGD(lr=0.001, decay=1e-6, momentum=0.9)"
   ]
  },
  {
   "cell_type": "code",
   "execution_count": 14,
   "id": "514d8c30",
   "metadata": {},
   "outputs": [],
   "source": [
    "model.compile(optimizer=optimizer, loss='categorical_crossentropy', metrics=['accuracy'])"
   ]
  },
  {
   "cell_type": "code",
   "execution_count": 15,
   "id": "a4a2d7c4",
   "metadata": {},
   "outputs": [],
   "source": [
    "from tensorflow.keras.callbacks import ModelCheckpoint "
   ]
  },
  {
   "cell_type": "code",
   "execution_count": 16,
   "id": "660e1ee1",
   "metadata": {},
   "outputs": [],
   "source": [
    "filepath_to_raw_model=\"content/resnet50_f_clustering.hdf5\"\n",
    "checkpoint = ModelCheckpoint(filepath=filepath_to_raw_model, monitor='val_loss', verbose=1, save_best_only=True, mode='auto')\n",
    "\n",
    "callbacks_list = [checkpoint]"
   ]
  },
  {
   "cell_type": "code",
   "execution_count": 17,
   "id": "de3394d4",
   "metadata": {},
   "outputs": [],
   "source": [
    "from sklearn.preprocessing import LabelEncoder"
   ]
  },
  {
   "cell_type": "code",
   "execution_count": 18,
   "id": "62033231",
   "metadata": {},
   "outputs": [
    {
     "name": "stdout",
     "output_type": "stream",
     "text": [
      "(65472, 10)\n",
      "(65472, 64, 64, 3)\n"
     ]
    }
   ],
   "source": [
    "label_encoder = LabelEncoder()\n",
    "vec = label_encoder.fit_transform(Y_data)\n",
    "\n",
    "Y_classes = tensorflow.keras.utils.to_categorical(np.array(vec),  dtype='int8')\n",
    "print(np.shape(Y_classes))\n",
    "print(np.shape(X_data))"
   ]
  },
  {
   "cell_type": "code",
   "execution_count": null,
   "id": "cb9b8a18",
   "metadata": {},
   "outputs": [
    {
     "name": "stdout",
     "output_type": "stream",
     "text": [
      "Epoch 1/100\n",
      "1842/1842 [==============================] - ETA: 0s - loss: 2.6384 - accuracy: 0.1104\n",
      "Epoch 00001: val_loss improved from inf to 2.70258, saving model to content\\resnet50_f_clustering.hdf5\n",
      "1842/1842 [==============================] - 4148s 2s/step - loss: 2.6384 - accuracy: 0.1104 - val_loss: 2.7026 - val_accuracy: 0.1174\n",
      "Epoch 2/100\n",
      "1842/1842 [==============================] - ETA: 0s - loss: 2.3791 - accuracy: 0.1178\n",
      "Epoch 00002: val_loss improved from 2.70258 to 2.58024, saving model to content\\resnet50_f_clustering.hdf5\n",
      "1842/1842 [==============================] - 3522s 2s/step - loss: 2.3791 - accuracy: 0.1178 - val_loss: 2.5802 - val_accuracy: 0.1294\n",
      "Epoch 3/100\n",
      "1842/1842 [==============================] - ETA: 0s - loss: 2.3370 - accuracy: 0.1245\n",
      "Epoch 00003: val_loss improved from 2.58024 to 2.57194, saving model to content\\resnet50_f_clustering.hdf5\n",
      "1842/1842 [==============================] - 3258s 2s/step - loss: 2.3370 - accuracy: 0.1245 - val_loss: 2.5719 - val_accuracy: 0.1206\n",
      "Epoch 4/100\n",
      "1842/1842 [==============================] - ETA: 0s - loss: 2.3167 - accuracy: 0.1278\n",
      "Epoch 00004: val_loss improved from 2.57194 to 2.38740, saving model to content\\resnet50_f_clustering.hdf5\n",
      "1842/1842 [==============================] - 3260s 2s/step - loss: 2.3167 - accuracy: 0.1278 - val_loss: 2.3874 - val_accuracy: 0.1151\n",
      "Epoch 5/100\n",
      "1842/1842 [==============================] - ETA: 0s - loss: 2.3024 - accuracy: 0.1360\n",
      "Epoch 00005: val_loss did not improve from 2.38740\n",
      "1842/1842 [==============================] - 3283s 2s/step - loss: 2.3024 - accuracy: 0.1360 - val_loss: 2.4293 - val_accuracy: 0.1248\n",
      "Epoch 6/100\n",
      "1842/1842 [==============================] - ETA: 0s - loss: 2.2894 - accuracy: 0.1440\n",
      "Epoch 00006: val_loss improved from 2.38740 to 2.32879, saving model to content\\resnet50_f_clustering.hdf5\n",
      "1842/1842 [==============================] - 3260s 2s/step - loss: 2.2894 - accuracy: 0.1440 - val_loss: 2.3288 - val_accuracy: 0.1176\n",
      "Epoch 7/100\n",
      "1842/1842 [==============================] - ETA: 0s - loss: 2.2766 - accuracy: 0.1499\n",
      "Epoch 00007: val_loss did not improve from 2.32879\n",
      "1842/1842 [==============================] - 3263s 2s/step - loss: 2.2766 - accuracy: 0.1499 - val_loss: 2.4280 - val_accuracy: 0.1121\n",
      "Epoch 8/100\n",
      "1842/1842 [==============================] - ETA: 0s - loss: 2.2646 - accuracy: 0.1561\n",
      "Epoch 00008: val_loss did not improve from 2.32879\n",
      "1842/1842 [==============================] - 3480s 2s/step - loss: 2.2646 - accuracy: 0.1561 - val_loss: 2.3924 - val_accuracy: 0.1159\n",
      "Epoch 9/100\n",
      "1539/1842 [========================>.....] - ETA: 21:46 - loss: 2.2455 - accuracy: 0.1679"
     ]
    }
   ],
   "source": [
    "model.fit(X_data, Y_classes, epochs = 100, batch_size = 32, validation_split=0.1, callbacks=callbacks_list,)"
   ]
  }
 ],
 "metadata": {
  "kernelspec": {
   "display_name": "Python 3",
   "language": "python",
   "name": "python3"
  },
  "language_info": {
   "codemirror_mode": {
    "name": "ipython",
    "version": 3
   },
   "file_extension": ".py",
   "mimetype": "text/x-python",
   "name": "python",
   "nbconvert_exporter": "python",
   "pygments_lexer": "ipython3",
   "version": "3.8.8"
  }
 },
 "nbformat": 4,
 "nbformat_minor": 5
}
